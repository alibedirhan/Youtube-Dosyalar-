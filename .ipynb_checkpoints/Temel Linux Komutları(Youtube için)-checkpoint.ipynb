{
 "cells": [
  {
   "cell_type": "markdown",
   "metadata": {},
   "source": [
    "<h1><center>Temel Linux Komutları</h1>"
   ]
  },
  {
   "cell_type": "markdown",
   "metadata": {},
   "source": [
    "<html>\n",
    "<body>\n",
    "<h2>Temel Başlıklar</h2>\n",
    " <ul>\n",
    "   <li>man</li>\n",
    "     <ul>\n",
    "         <li>man man</li>\n",
    "     </ul>\n",
    "   <li>ls</li>\n",
    "     <ul>\n",
    "         <li>ls -a</li>\n",
    "         <li>ls -l</li>\n",
    "         <li> ls -lt</li>\n",
    "         <li>ls -ls</li>\n",
    "         <li>ls -lrS</li>\n",
    "         <li>ls -lrt</li>\n",
    "     </ul>\n",
    "   <li>cd</li>\n",
    "     <ul>\n",
    "         <li>cd .</li>\n",
    "         <li>cd ..</li>\n",
    "     </ul>\n",
    "   <li>pwd</li>\n",
    "   <li>mkdir</li>  \n",
    " </ul>  \n",
    "</body>\n",
    "</html>"
   ]
  },
  {
   "cell_type": "markdown",
   "metadata": {},
   "source": [
    "Linux en popüler açık kaynak ve ücretsiz bir işletim sistemidir. "
   ]
  },
  {
   "cell_type": "markdown",
   "metadata": {},
   "source": [
    "<h3><li>man komutu</li></h3>"
   ]
  },
  {
   "cell_type": "code",
   "execution_count": null,
   "metadata": {},
   "outputs": [],
   "source": [
    "man komutu \"manuel\" den gelir ana amacı başka bir komutun ne işe yaradığı hakkında bilgi\n",
    "\n"
   ]
  }
 ],
 "metadata": {
  "kernelspec": {
   "display_name": "Python 3",
   "language": "python",
   "name": "python3"
  },
  "language_info": {
   "codemirror_mode": {
    "name": "ipython",
    "version": 3
   },
   "file_extension": ".py",
   "mimetype": "text/x-python",
   "name": "python",
   "nbconvert_exporter": "python",
   "pygments_lexer": "ipython3",
   "version": "3.7.6"
  }
 },
 "nbformat": 4,
 "nbformat_minor": 4
}
