{
 "cells": [
  {
   "cell_type": "markdown",
   "id": "e88d1ad1",
   "metadata": {},
   "source": [
    "<html>\n",
    "<body>\n",
    "<h2>Temel Başlıklar Ders 2</h2>\n",
    " <ul>\n",
    "   <li>man</li>\n",
    "     <ul>\n",
    "         <li>man man</li>\n",
    "     </ul>\n",
    "   <li>ls</li>\n",
    "     <ul>\n",
    "         <li>ls -a</li>\n",
    "         <li>ls -l</li>\n",
    "     </ul>\n",
    "   <li>cd</li>\n",
    "     <ul>\n",
    "         <li>cd ..</li>\n",
    "     </ul>\n",
    "   <li>pwd</li>\n",
    "   <li>mkdir</li>  \n",
    " </ul>  \n",
    "</body>\n",
    "</html>"
   ]
  },
  {
   "cell_type": "code",
   "execution_count": null,
   "id": "348a4932",
   "metadata": {},
   "outputs": [],
   "source": []
  }
 ],
 "metadata": {
  "kernelspec": {
   "display_name": "Python 3 (ipykernel)",
   "language": "python",
   "name": "python3"
  },
  "language_info": {
   "codemirror_mode": {
    "name": "ipython",
    "version": 3
   },
   "file_extension": ".py",
   "mimetype": "text/x-python",
   "name": "python",
   "nbconvert_exporter": "python",
   "pygments_lexer": "ipython3",
   "version": "3.10.4"
  }
 },
 "nbformat": 4,
 "nbformat_minor": 5
}
